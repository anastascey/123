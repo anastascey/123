{
 "cells": [
  {
   "cell_type": "code",
   "execution_count": 1,
   "id": "4e6ab9c3",
   "metadata": {},
   "outputs": [],
   "source": [
    "import pandas as pd\n",
    "from numpy import poly1d\n",
    "from matplotlib import pyplot as plt\n",
    "import numpy as np"
   ]
  },
  {
   "cell_type": "code",
   "execution_count": 2,
   "id": "1d1cacea",
   "metadata": {},
   "outputs": [],
   "source": [
    "x = [0.17453, 0.5236, 0.87267, 1.22173, 1.5708, 1.91986, 2.26893]\n",
    "y = [0.00162, 0.00252, 0.00498, 0.0129, 0.03964, 0.1207, 0.34097]"
   ]
  },
  {
   "cell_type": "code",
   "execution_count": 3,
   "id": "1a68038c",
   "metadata": {},
   "outputs": [],
   "source": [
    "def newton_poly(b, x0, a):\n",
    "    poly = b[0] + b[1]*(x0 - a[0]) + b[2]*(x0 - a[0])*(x0 - a[1]) + b[3]*(x0 - a[0])*(x0 - a[1])*(x0 - a[2])\n",
    "    poly += b[4]*(x0 - a[0])*(x0 - a[1])*(x0 - a[2])*(x0 - a[3])\n",
    "    poly += b[5]*(x0 - a[0])*(x0 - a[1])*(x0 - a[2])*(x0 - a[3])*(x0 - a[4])\n",
    "    poly += b[6]*(x0 - a[0])*(x0 - a[1])*(x0 - a[2])*(x0 - a[3])*(x0 - a[4])*(x0 - a[5])\n",
    "    return poly"
   ]
  },
  {
   "cell_type": "code",
   "execution_count": 4,
   "id": "936c4cd5",
   "metadata": {},
   "outputs": [],
   "source": [
    "b0 = y\n",
    "b1 = []\n",
    "for i in range(1, 7):\n",
    "    b1.append((y[i] - y[i-1])/(x[i] - x[i-1]))\n",
    "b2 = []\n",
    "for i in range(1, 6):\n",
    "    b2.append((b1[i] - b1[i-1])/(x[i+1] - x[i-1]))\n",
    "b3 = []\n",
    "for i in range(1, 5):\n",
    "    b3.append((b2[i] - b2[i-1])/(x[i+2] - x[i-1]))\n",
    "b4 = []\n",
    "for i in range(1, 4):\n",
    "    b4.append((b3[i] - b3[i-1])/(x[i+3] - x[i-1]))\n",
    "b5 = []\n",
    "for i in range(1, 3):\n",
    "    b5.append((b4[i] - b4[i-1])/(x[i+4] - x[i-1]))\n",
    "b6 = (b5[1] - b5[0])/(x[6] - x[0])"
   ]
  },
  {
   "cell_type": "code",
   "execution_count": 5,
   "id": "6530f951",
   "metadata": {},
   "outputs": [],
   "source": [
    "b = [b0[0], b1[0], b2[0], b3[0], b4[0], b5[0], b6]"
   ]
  },
  {
   "cell_type": "code",
   "execution_count": 6,
   "id": "4a7de7e4",
   "metadata": {},
   "outputs": [
    {
     "name": "stdout",
     "output_type": "stream",
     "text": [
      "[0.00162, 0.0025782794281949185, 0.00640132018726596, 0.015283186066176081, 0.026546727555321226, 0.020395660881294617, 0.01117456557993848]\n"
     ]
    }
   ],
   "source": [
    "print(b)"
   ]
  },
  {
   "cell_type": "code",
   "execution_count": 8,
   "id": "ab286e4d",
   "metadata": {},
   "outputs": [
    {
     "name": "stdout",
     "output_type": "stream",
     "text": [
      "[0.003284559824898437, -0.019391458207426944, 0.07479615193127234, -0.1227016196709355, 0.1094543433033508, -0.04981625782491904, 0.01117456557993848]\n"
     ]
    }
   ],
   "source": [
    "newton_coefs = [0 for _ in range(len(x))]\n",
    "newton_coefs[0] += b[0]\n",
    "\n",
    "for i in range(1, len(x)):\n",
    "    n_poly = poly1d(x[:i], True)\n",
    "    npc = n_poly.coef    \n",
    "    k = len(npc) - 1\n",
    "    j = 0\n",
    "    while k > -1:\n",
    "        newton_coefs[k] += b[i] * npc[j]\n",
    "        j += 1\n",
    "        k -= 1 \n",
    "print(newton_coefs)"
   ]
  },
  {
   "cell_type": "code",
   "execution_count": 9,
   "id": "28a9aafc",
   "metadata": {},
   "outputs": [],
   "source": [
    "newton_coefs.reverse()\n",
    "p1 = poly1d(newton_coefs).deriv(1)\n",
    "p1_a = [p1(el) for el in x]\n",
    "spline_coefs = []\n",
    "\n",
    "def find_spline_coeffs(x, f, P):\n",
    "    den = (x[1] - x[0]) ** 3\n",
    "\n",
    "    a_3 = ((P[1] + P[0]) * (x[1] - x[0]) - 2 * (f[1] - f[0])) / den\n",
    "    a_2 = (3 * (f[1] - f[0]) * (x[1] + x[0]) - (P[1] * (x[1] + 2 * x[0]) + P[0] * (x[0] + 2 * x[1])) * (\n",
    "            x[1] - x[0])) / den\n",
    "    a_1 = ((P[1] * x[0] * (2 * x[1] + x[0]) + P[0] * x[1] * (x[1] + 2 * x[0])) * (x[1] - x[0]) - 6 * (f[1] - f[0]) * x[\n",
    "        0] * x[1]) / den\n",
    "    a_0 = ((f[1] * x[0] ** 2 * (3 * x[1] - x[0]) + f[0] * x[1] ** 2 * (x[1] - 3 * x[0])) - (\n",
    "            P[1] * x[0] ** 2 * x[1] + P[0] * x[0] * x[1] ** 2) * (x[1] - x[0])) / den\n",
    "\n",
    "    return [a_3, a_2, a_1, a_0]\n",
    "\n"
   ]
  },
  {
   "cell_type": "code",
   "execution_count": 10,
   "id": "64b35a23",
   "metadata": {},
   "outputs": [],
   "source": [
    "for i in range(len(x) - 1):\n",
    "    coeffs = find_spline_coeffs([x[i], x[i + 1]], [y[i], y[i + 1]], [p1_a[i], p1_a[i + 1]])\n",
    "    spline_coefs.append(coeffs)\n"
   ]
  },
  {
   "cell_type": "code",
   "execution_count": 11,
   "id": "a788df2c",
   "metadata": {},
   "outputs": [
    {
     "name": "stdout",
     "output_type": "stream",
     "text": [
      "[[-0.022677772893361245, 0.034018688384902636, -0.01219075339547275, 0.002831980479998416], [0.016016487010490497, -0.024259505450194906, 0.01701326919457167, -0.002036379520059403], [0.0473792122671172, -0.10784634086483634, 0.0912475906847518, -0.02400582330078225], [0.12844509879497898, -0.4104293926726042, 0.4675944641038418, -0.17998773924572278], [0.31624730169393356, -1.3048699923716183, 1.8874124643600936, -0.9311698019718887], [0.6678201991784162, -3.343208122854888, 5.826512158975495, -3.468505123912762]]\n"
     ]
    }
   ],
   "source": [
    "print(spline_coefs)"
   ]
  },
  {
   "cell_type": "code",
   "execution_count": null,
   "id": "e7c5dbd2",
   "metadata": {},
   "outputs": [],
   "source": []
  },
  {
   "cell_type": "code",
   "execution_count": null,
   "id": "685b9eff",
   "metadata": {},
   "outputs": [],
   "source": []
  }
 ],
 "metadata": {
  "kernelspec": {
   "display_name": "Python 3 (ipykernel)",
   "language": "python",
   "name": "python3"
  },
  "language_info": {
   "codemirror_mode": {
    "name": "ipython",
    "version": 3
   },
   "file_extension": ".py",
   "mimetype": "text/x-python",
   "name": "python",
   "nbconvert_exporter": "python",
   "pygments_lexer": "ipython3",
   "version": "3.9.12"
  }
 },
 "nbformat": 4,
 "nbformat_minor": 5
}
