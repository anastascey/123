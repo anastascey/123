{
 "cells": [
  {
   "cell_type": "code",
   "execution_count": 9,
   "id": "72416c0c",
   "metadata": {},
   "outputs": [],
   "source": [
    "x_0 = 1.0\n",
    "x_l = 2.0\n",
    "y_0= 1+ (2)**(1/2)\n",
    "N = 10\n",
    "eps = 10 ** (-4)"
   ]
  },
  {
   "cell_type": "code",
   "execution_count": 2,
   "id": "b20b7b69",
   "metadata": {},
   "outputs": [],
   "source": [
    "def f(x, y):\n",
    "    return (-y**2+3*x*y+2*x**2)/(x*y-x**2)"
   ]
  },
  {
   "cell_type": "code",
   "execution_count": 3,
   "id": "7c4e226b",
   "metadata": {},
   "outputs": [],
   "source": [
    "def modif_Eulers_method(N, x0 = x_0, xl = x_l, y0 = y_0): \n",
    "    y_h = []\n",
    "    x_h = []\n",
    "    h = (xl - x0) / N\n",
    "    while x0 - xl < 0.00000001: \n",
    "        x_h.append(x0)\n",
    "        y_h.append(y0)\n",
    "        f1 = f(x0, y0)\n",
    "        f2 = f(x0 + h/2, y0 + h * f1 / 2)\n",
    "        x0 += h\n",
    "        y0 += h * f2\n",
    "    return x_h, y_h"
   ]
  },
  {
   "cell_type": "code",
   "execution_count": 4,
   "id": "107cc838",
   "metadata": {},
   "outputs": [],
   "source": [
    "\n",
    "xh, yh = modif_Eulers_method(N)\n",
    "xh1, yh_1 = modif_Eulers_method(1000000)\n",
    "\n",
    "\n",
    "x = xh[::(int(N/10))]\n",
    "y = yh[::(int(N/10))]\n",
    "z = yh_1[::int(1000000/10)]"
   ]
  },
  {
   "cell_type": "code",
   "execution_count": 6,
   "id": "fe124e8c",
   "metadata": {},
   "outputs": [
    {
     "data": {
      "text/html": [
       "<div>\n",
       "<style scoped>\n",
       "    .dataframe tbody tr th:only-of-type {\n",
       "        vertical-align: middle;\n",
       "    }\n",
       "\n",
       "    .dataframe tbody tr th {\n",
       "        vertical-align: top;\n",
       "    }\n",
       "\n",
       "    .dataframe thead th {\n",
       "        text-align: right;\n",
       "    }\n",
       "</style>\n",
       "<table border=\"1\" class=\"dataframe\">\n",
       "  <thead>\n",
       "    <tr style=\"text-align: right;\">\n",
       "      <th></th>\n",
       "      <th>0</th>\n",
       "      <th>1</th>\n",
       "      <th>2</th>\n",
       "      <th>3</th>\n",
       "      <th>4</th>\n",
       "      <th>5</th>\n",
       "      <th>6</th>\n",
       "      <th>7</th>\n",
       "      <th>8</th>\n",
       "      <th>9</th>\n",
       "      <th>10</th>\n",
       "    </tr>\n",
       "  </thead>\n",
       "  <tbody>\n",
       "    <tr>\n",
       "      <th>x</th>\n",
       "      <td>1.000000</td>\n",
       "      <td>1.100000</td>\n",
       "      <td>1.200000</td>\n",
       "      <td>1.300000</td>\n",
       "      <td>1.400000</td>\n",
       "      <td>1.50000</td>\n",
       "      <td>1.600000</td>\n",
       "      <td>1.700000</td>\n",
       "      <td>1.800000</td>\n",
       "      <td>1.900000</td>\n",
       "      <td>2.000000</td>\n",
       "    </tr>\n",
       "    <tr>\n",
       "      <th>y</th>\n",
       "      <td>2.414214</td>\n",
       "      <td>2.655635</td>\n",
       "      <td>2.897056</td>\n",
       "      <td>3.138478</td>\n",
       "      <td>3.379899</td>\n",
       "      <td>3.62132</td>\n",
       "      <td>3.862742</td>\n",
       "      <td>4.104163</td>\n",
       "      <td>4.345584</td>\n",
       "      <td>4.587006</td>\n",
       "      <td>4.828427</td>\n",
       "    </tr>\n",
       "    <tr>\n",
       "      <th>z</th>\n",
       "      <td>2.414214</td>\n",
       "      <td>2.655635</td>\n",
       "      <td>2.897056</td>\n",
       "      <td>3.138478</td>\n",
       "      <td>3.379899</td>\n",
       "      <td>3.62132</td>\n",
       "      <td>3.862742</td>\n",
       "      <td>4.104163</td>\n",
       "      <td>4.345584</td>\n",
       "      <td>4.587006</td>\n",
       "      <td>4.828427</td>\n",
       "    </tr>\n",
       "  </tbody>\n",
       "</table>\n",
       "</div>"
      ],
      "text/plain": [
       "         0         1         2         3         4        5         6   \\\n",
       "x  1.000000  1.100000  1.200000  1.300000  1.400000  1.50000  1.600000   \n",
       "y  2.414214  2.655635  2.897056  3.138478  3.379899  3.62132  3.862742   \n",
       "z  2.414214  2.655635  2.897056  3.138478  3.379899  3.62132  3.862742   \n",
       "\n",
       "         7         8         9         10  \n",
       "x  1.700000  1.800000  1.900000  2.000000  \n",
       "y  4.104163  4.345584  4.587006  4.828427  \n",
       "z  4.104163  4.345584  4.587006  4.828427  "
      ]
     },
     "execution_count": 6,
     "metadata": {},
     "output_type": "execute_result"
    }
   ],
   "source": [
    "import numpy as np\n",
    "import pandas as pd\n",
    "     \n",
    "\n",
    "data = pd.DataFrame((x,y,yh_1[::int(1000000/10)]), index=['x', 'y', 'z']).dropna(axis=1)\n",
    "data"
   ]
  },
  {
   "cell_type": "code",
   "execution_count": 7,
   "id": "145b6ae2",
   "metadata": {},
   "outputs": [
    {
     "name": "stdout",
     "output_type": "stream",
     "text": [
      "error 9.213074747549399e-12\n"
     ]
    }
   ],
   "source": [
    "for i in range(len(z)):\n",
    "    z[i] -= y[i]\n",
    "print('error',max(z))"
   ]
  },
  {
   "cell_type": "code",
   "execution_count": 11,
   "id": "41c57fb8",
   "metadata": {},
   "outputs": [
    {
     "name": "stdout",
     "output_type": "stream",
     "text": [
      "True\n"
     ]
    }
   ],
   "source": [
    "print(eps > max(z))"
   ]
  },
  {
   "cell_type": "code",
   "execution_count": null,
   "id": "2dd60c8d",
   "metadata": {},
   "outputs": [],
   "source": []
  }
 ],
 "metadata": {
  "kernelspec": {
   "display_name": "Python 3 (ipykernel)",
   "language": "python",
   "name": "python3"
  },
  "language_info": {
   "codemirror_mode": {
    "name": "ipython",
    "version": 3
   },
   "file_extension": ".py",
   "mimetype": "text/x-python",
   "name": "python",
   "nbconvert_exporter": "python",
   "pygments_lexer": "ipython3",
   "version": "3.9.12"
  }
 },
 "nbformat": 4,
 "nbformat_minor": 5
}
